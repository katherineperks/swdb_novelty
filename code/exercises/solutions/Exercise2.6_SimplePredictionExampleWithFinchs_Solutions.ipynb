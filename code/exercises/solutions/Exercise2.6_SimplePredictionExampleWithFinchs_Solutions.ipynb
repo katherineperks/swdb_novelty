{
 "cells": [
  {
   "cell_type": "markdown",
   "id": "a7c53019",
   "metadata": {},
   "source": [
    "<div style=\"border-left: 3px solid #000; padding: 1px; padding-left: 10px; background: #F0FAFF; \">\n",
    "\n",
    "# And now for something completely different\n",
    "\n",
    "A one-hot regression example for those who need a break from neurons."
   ]
  },
  {
   "cell_type": "markdown",
   "id": "6b2362d1",
   "metadata": {},
   "source": [
    "<div style=\"border-left: 3px solid #000; padding: 1px; padding-left: 10px; background: #F0FAFF; \">\n",
    "\n",
    "This is a neuroscience course, but to understand some of the concepts today lets turn to a classic statistics problem from ecology. This example is relevant to this course insofar as we are on and island, and it never hurts to think about some island ecology!"
   ]
  },
  {
   "cell_type": "markdown",
   "id": "34c86854",
   "metadata": {},
   "source": [
    "\n",
    "<div style=\"border-left: 3px solid #000; padding: 1px; padding-left: 10px; background: #F0FAFF; \">\n",
    "\n",
    "Charles Darwin  observed that there are many species of finch unique to the Galapogos Islands. Importanlty, these finch appear very similar to those found on the mainland, but with unique specializations specific to their enviornmental niches on the islands. From this, he concluded that the island were likely colonized by birds from the mainland, and over time the bird population on the island adapted to fit the local environment. This was one of the key insigts leading to his theory of evolution."
   ]
  },
  {
   "cell_type": "markdown",
   "id": "fe712f8d",
   "metadata": {},
   "source": [
    "<div style=\"border-left: 3px solid #000; padding: 1px; padding-left: 10px; background: #F0FAFF; \">\n",
    "\n",
    "\n",
    "The finches of the Galapogos have remained an active area of study. From 1973 to 2013, Peter and Rosemary Grand made trips to the island of Daphne Major to collect beak size and shape information about two species of finch, G. Fortis and G. scandens. We will use the distinction between these species to illustrate catigorical regression- a concept that will be useful momentarily when we start thinging about neural encoding. If you are interested, more information on these data are avalible here: https://www.kaggle.com/datasets/crbelhekar619/darwins-finches-evolution-dataset"
   ]
  },
  {
   "cell_type": "markdown",
   "id": "c1a6ff62",
   "metadata": {},
   "source": [
    "\n",
    "![Illustration by Rosa Marin Ribas, http://graphictextile.blogspot.com/2017/08/two-finches.html?spref=pi](../../../resources/geospizas.jpg)"
   ]
  },
  {
   "cell_type": "code",
   "execution_count": 77,
   "id": "c3da6dab",
   "metadata": {},
   "outputs": [],
   "source": [
    "# Get all our favorite libraries\n",
    "import pandas as pd\n",
    "import numpy as np\n",
    "from matplotlib import pyplot as plt\n",
    "import sklearn.linear_model as lm\n",
    "from sklearn.model_selection import train_test_split\n",
    "%matplotlib inline"
   ]
  },
  {
   "cell_type": "markdown",
   "id": "175615dd",
   "metadata": {},
   "source": [
    "For this example, lets start with data collected in 1975. \n",
    "\n",
    "Length and depth units are in mm"
   ]
  },
  {
   "cell_type": "code",
   "execution_count": 78,
   "id": "d1a5fb06",
   "metadata": {},
   "outputs": [
    {
     "data": {
      "text/html": [
       "<div>\n",
       "<style scoped>\n",
       "    .dataframe tbody tr th:only-of-type {\n",
       "        vertical-align: middle;\n",
       "    }\n",
       "\n",
       "    .dataframe tbody tr th {\n",
       "        vertical-align: top;\n",
       "    }\n",
       "\n",
       "    .dataframe thead th {\n",
       "        text-align: right;\n",
       "    }\n",
       "</style>\n",
       "<table border=\"1\" class=\"dataframe\">\n",
       "  <thead>\n",
       "    <tr style=\"text-align: right;\">\n",
       "      <th></th>\n",
       "      <th>band</th>\n",
       "      <th>year</th>\n",
       "      <th>species</th>\n",
       "      <th>beaklength</th>\n",
       "      <th>beakdepth</th>\n",
       "    </tr>\n",
       "  </thead>\n",
       "  <tbody>\n",
       "    <tr>\n",
       "      <th>0</th>\n",
       "      <td>2</td>\n",
       "      <td>1975</td>\n",
       "      <td>fortis</td>\n",
       "      <td>9.4</td>\n",
       "      <td>8.0</td>\n",
       "    </tr>\n",
       "    <tr>\n",
       "      <th>1</th>\n",
       "      <td>9</td>\n",
       "      <td>1975</td>\n",
       "      <td>fortis</td>\n",
       "      <td>9.2</td>\n",
       "      <td>8.3</td>\n",
       "    </tr>\n",
       "    <tr>\n",
       "      <th>2</th>\n",
       "      <td>12</td>\n",
       "      <td>1975</td>\n",
       "      <td>fortis</td>\n",
       "      <td>9.5</td>\n",
       "      <td>7.5</td>\n",
       "    </tr>\n",
       "    <tr>\n",
       "      <th>3</th>\n",
       "      <td>15</td>\n",
       "      <td>1975</td>\n",
       "      <td>fortis</td>\n",
       "      <td>9.5</td>\n",
       "      <td>8.0</td>\n",
       "    </tr>\n",
       "    <tr>\n",
       "      <th>4</th>\n",
       "      <td>305</td>\n",
       "      <td>1975</td>\n",
       "      <td>fortis</td>\n",
       "      <td>11.5</td>\n",
       "      <td>9.9</td>\n",
       "    </tr>\n",
       "  </tbody>\n",
       "</table>\n",
       "</div>"
      ],
      "text/plain": [
       "   band  year species  beaklength  beakdepth\n",
       "0     2  1975  fortis         9.4        8.0\n",
       "1     9  1975  fortis         9.2        8.3\n",
       "2    12  1975  fortis         9.5        7.5\n",
       "3    15  1975  fortis         9.5        8.0\n",
       "4   305  1975  fortis        11.5        9.9"
      ]
     },
     "execution_count": 78,
     "metadata": {},
     "output_type": "execute_result"
    }
   ],
   "source": [
    "finches = pd.read_csv(r'../../../resources/finch_beaks.csv')\n",
    "finches.head()"
   ]
  },
  {
   "cell_type": "code",
   "execution_count": 79,
   "id": "6b67c43f",
   "metadata": {},
   "outputs": [
    {
     "data": {
      "text/html": [
       "<div>\n",
       "<style scoped>\n",
       "    .dataframe tbody tr th:only-of-type {\n",
       "        vertical-align: middle;\n",
       "    }\n",
       "\n",
       "    .dataframe tbody tr th {\n",
       "        vertical-align: top;\n",
       "    }\n",
       "\n",
       "    .dataframe thead th {\n",
       "        text-align: right;\n",
       "    }\n",
       "</style>\n",
       "<table border=\"1\" class=\"dataframe\">\n",
       "  <thead>\n",
       "    <tr style=\"text-align: right;\">\n",
       "      <th></th>\n",
       "      <th>band</th>\n",
       "      <th>year</th>\n",
       "      <th>species</th>\n",
       "      <th>beaklength</th>\n",
       "      <th>beakdepth</th>\n",
       "    </tr>\n",
       "  </thead>\n",
       "  <tbody>\n",
       "    <tr>\n",
       "      <th>646</th>\n",
       "      <td>21295</td>\n",
       "      <td>2012</td>\n",
       "      <td>scandens</td>\n",
       "      <td>14.2</td>\n",
       "      <td>9.3</td>\n",
       "    </tr>\n",
       "    <tr>\n",
       "      <th>647</th>\n",
       "      <td>21297</td>\n",
       "      <td>2012</td>\n",
       "      <td>scandens</td>\n",
       "      <td>13.0</td>\n",
       "      <td>9.8</td>\n",
       "    </tr>\n",
       "    <tr>\n",
       "      <th>648</th>\n",
       "      <td>21340</td>\n",
       "      <td>2012</td>\n",
       "      <td>scandens</td>\n",
       "      <td>14.6</td>\n",
       "      <td>8.9</td>\n",
       "    </tr>\n",
       "    <tr>\n",
       "      <th>649</th>\n",
       "      <td>21342</td>\n",
       "      <td>2012</td>\n",
       "      <td>scandens</td>\n",
       "      <td>13.1</td>\n",
       "      <td>9.8</td>\n",
       "    </tr>\n",
       "    <tr>\n",
       "      <th>650</th>\n",
       "      <td>21347</td>\n",
       "      <td>2012</td>\n",
       "      <td>scandens</td>\n",
       "      <td>15.2</td>\n",
       "      <td>9.1</td>\n",
       "    </tr>\n",
       "  </tbody>\n",
       "</table>\n",
       "</div>"
      ],
      "text/plain": [
       "      band  year   species  beaklength  beakdepth\n",
       "646  21295  2012  scandens        14.2        9.3\n",
       "647  21297  2012  scandens        13.0        9.8\n",
       "648  21340  2012  scandens        14.6        8.9\n",
       "649  21342  2012  scandens        13.1        9.8\n",
       "650  21347  2012  scandens        15.2        9.1"
      ]
     },
     "execution_count": 79,
     "metadata": {},
     "output_type": "execute_result"
    }
   ],
   "source": [
    "finches.tail()"
   ]
  },
  {
   "cell_type": "markdown",
   "id": "3d80d040",
   "metadata": {},
   "source": [
    "<div style=\"background: #DFF0D8; border-radius: 3px; padding: 10px;\">\n",
    "<p>\n",
    "\n",
    "\n",
    "Lets start by choosing one year's worth of finches to analyze. Make a dataframe called `finches75` that slices the `finches` data frame for the year 1975."
   ]
  },
  {
   "cell_type": "code",
   "execution_count": 80,
   "id": "d5c25ace",
   "metadata": {},
   "outputs": [],
   "source": [
    "finches75 = finches[finches.year==1975]"
   ]
  },
  {
   "cell_type": "markdown",
   "id": "ee14e721",
   "metadata": {},
   "source": [
    "<div style=\"background: #DFF0D8; border-radius: 3px; padding: 10px;\">\n",
    "<p>\n",
    "\n",
    "What species of finches are in this dataset?\n"
   ]
  },
  {
   "cell_type": "code",
   "execution_count": 81,
   "id": "e923a2c2",
   "metadata": {},
   "outputs": [
    {
     "data": {
      "text/plain": [
       "array(['fortis', 'scandens'], dtype=object)"
      ]
     },
     "execution_count": 81,
     "metadata": {},
     "output_type": "execute_result"
    }
   ],
   "source": [
    "np.unique(finches75['species'])"
   ]
  },
  {
   "cell_type": "markdown",
   "id": "d420d61d",
   "metadata": {},
   "source": [
    "<div style=\"background: #DFF0D8; border-radius: 3px; padding: 10px;\">\n",
    "<p>\n",
    "\n",
    "# Step One is always to look at your data.\n",
    "\n",
    "use the `matplotlib.hist` function to plot histograms of the distribution of beak length in the year 1975 for each of the two finch species in the dataset."
   ]
  },
  {
   "cell_type": "code",
   "execution_count": 82,
   "id": "60dc1ee7",
   "metadata": {},
   "outputs": [
    {
     "data": {
      "image/png": "[encoded data removed]",
      "text/plain": [
       "<Figure size 432x288 with 1 Axes>"
      ]
     },
     "metadata": {
      "needs_background": "light"
     },
     "output_type": "display_data"
    }
   ],
   "source": [
    "fig,ax = plt.subplots()\n",
    "ax.hist(finches75[finches75.species=='fortis'].beaklength,density = True,alpha = .5,histtype='bar',label='fortis',color = 'blue');\n",
    "ax.hist(finches75[finches75.species=='scandens'].beaklength,density = True,alpha = .5,histtype='bar',label='scandens',color = 'orange');\n",
    "ax.set_ylabel('density')\n",
    "ax.set_xlabel('pH')\n",
    "ax.legend()\n",
    "ax.set_title('Distributions of beak Lengths by species');\n"
   ]
  },
  {
   "cell_type": "markdown",
   "id": "e4b33d98",
   "metadata": {},
   "source": [
    "<div style=\"border-left: 3px solid #000; padding: 1px; padding-left: 10px; background: #F0FAFF; \">\n",
    "<p>\n",
    "\n",
    "Now, lets say that we want to model beak length as a function of finch species. Another way of saying that is \"Lets ask if Beak Length is encoded by species information.\" Perhapse the simplest model we could build would look like this:\n",
    "\n",
    "$$y = \\beta x+C$$\n",
    "\n",
    "Here, $y$ is our beak length and $X$ is species information. $\\beta$ and $C$ are constants.\n",
    "\n",
    "In this case, however, X is not a continuous variable- really, X has two possible values that are not numeric- fortis or scandens.\n",
    "\n",
    "One way to handle this would be to construct two models:\n",
    "$$y = \\beta_f X_f+C_f$$\n",
    "$$y = \\beta_s X_s+C_s$$\n",
    "\n",
    "Mathematically, though, this is a pain - now we need to look up which equation to use every time we want to predict new data. Much easier would be to do things peicewise.\n",
    "\n",
    "$$y = \\begin{cases} \n",
    "\\beta_f X & is & f  \\\\\n",
    "\\beta_s X & is & s\n",
    "\\end{cases} + C $$\n",
    "\n",
    "Notice that, in this formulation, we merged the constants into one value, $C$. $C$ is, effectivly, the offset from zero for any model we fit. In this example, for interpratibility, we are actually going to enforce $C=0$ so that the $\\beta$ values we get are easier to understand. We will come back to why merging all the constants makes sense for modeling neurons and tuning curves later later.\n",
    "\n",
    "Importantly, $X$ here is just the identity of the bird species - it is therefore, always 1! What changes is whether We are operating in the $f$ or $s$ part of the equation. This type of problem is called \"One-Hot\" encoding, because X encodes what art of the equation we are operating in. Mathematically, we do this by creating a vector for each sample and setting $X_i = 1$ for whichever case is true. \n",
    "\n",
    "$$ X_f = [1,0] $$\n",
    "$$ X_s = [0,1] $$ \n",
    "\n",
    "If we have many observations, we can stack each of these X obeservations to form a \"Design Matrix.\" \n",
    "\n",
    "We will have a corresponding fitting parameter vector, $$\\beta = [\\beta_f,\\beta_s]$$\n",
    "\n",
    "Our whole problem can now be written: \n",
    "$$y = \\beta X$$ \n"
   ]
  },
  {
   "cell_type": "markdown",
   "id": "12901b8b",
   "metadata": {},
   "source": [
    "<div style=\"background: #DFF0D8; border-radius: 3px; padding: 10px;\">\n",
    "<p>\n",
    "Convert the beak length data to be a one-hot regression problem.\n",
    "\n",
    "You will have two variables: `X75`, which will be the have two columns indicating the species of the measured bird, and `y75` indicating the beak length of each finch"
   ]
  },
  {
   "cell_type": "markdown",
   "id": "5fa9ab25",
   "metadata": {},
   "source": [
    "Get `X75`"
   ]
  },
  {
   "cell_type": "code",
   "execution_count": 83,
   "id": "a6129d88",
   "metadata": {},
   "outputs": [],
   "source": [
    "\n",
    "its_a_fortis = np.array(finches75.species == 'fortis')\n",
    "its_a_scandens = np.array(finches75.species=='scandens')\n",
    "X75 = np.vstack([its_a_fortis,its_a_scandens]).T\n",
    "X75 = X75.astype(int)"
   ]
  },
  {
   "cell_type": "markdown",
   "id": "7a2c73ec",
   "metadata": {},
   "source": [
    "and get `y75`"
   ]
  },
  {
   "cell_type": "code",
   "execution_count": 84,
   "id": "3369d2f9",
   "metadata": {},
   "outputs": [],
   "source": [
    "y75 = finches75.beaklength"
   ]
  },
  {
   "cell_type": "markdown",
   "id": "fabe0b66",
   "metadata": {},
   "source": [
    "<div style=\"border-left: 3px solid #000; padding: 1px; padding-left: 10px; background: #F0FAFF; \">\n",
    "<p>\n",
    "\n",
    "Now that we have $X$ and $y$, we need to solve for $\\beta$. \n",
    "\n",
    "You will recall from the workshop that we fit a linear model by mimizing the error function:\n",
    "\n",
    "$$E = \\frac{1}{2} \\sum_i \\left | y_i - f\\left ( \\vec{x}_i \\right ) \\right |^2 = \\frac{1}{2} \\sum_i \\left | y_i - \\sum_j \\beta_j X_i \\right |^2 $$\n",
    "\n",
    "There, we eluded to a closed form solution to this problem. If you sit down with a pencil and paper (or read enough wikipedia: https://en.wikipedia.org/wiki/Ordinary_least_squares). You can show that the values of beta that minimize this function will be given:\n",
    "\n",
    "$$ \\vec{\\beta} = (X^TX)^{-1}X^Ty$$"
   ]
  },
  {
   "cell_type": "markdown",
   "id": "12666783",
   "metadata": {},
   "source": [
    "Let try it! Here is one notation:"
   ]
  },
  {
   "cell_type": "code",
   "execution_count": 85,
   "id": "e6be767d",
   "metadata": {},
   "outputs": [
    {
     "name": "stdout",
     "output_type": "stream",
     "text": [
      "[10.56518987 14.12091954]\n"
     ]
    }
   ],
   "source": [
    "beta = np.linalg.inv(X75.T@X75) @ X75.T @ y75\n",
    "print(beta)"
   ]
  },
  {
   "cell_type": "markdown",
   "id": "cc4a8eba",
   "metadata": {},
   "source": [
    "And here is an alternative notation"
   ]
  },
  {
   "cell_type": "code",
   "execution_count": 86,
   "id": "4ffad51b",
   "metadata": {},
   "outputs": [
    {
     "name": "stdout",
     "output_type": "stream",
     "text": [
      "[10.56518987 14.12091954]\n"
     ]
    }
   ],
   "source": [
    "beta = np.linalg.lstsq(X75,y75,rcond=0)[0]\n",
    "print(beta)"
   ]
  },
  {
   "cell_type": "markdown",
   "id": "a93fd6aa",
   "metadata": {},
   "source": [
    "<div style=\"border-left: 3px solid #000; padding: 1px; padding-left: 10px; background: #F0FAFF; \">\n",
    "\n",
    "Manually doing linear algebra, however, is not the easiest way to tackle this sort of problem in python. As you know from this mornings workshop, `Scikit-learn` provides an excellent interface to tackling this problem. \n"
   ]
  },
  {
   "cell_type": "markdown",
   "id": "ecf085d8",
   "metadata": {},
   "source": [
    "<div style=\"background: #DFF0D8; border-radius: 3px; padding: 10px;\">\n",
    "\n",
    "Create a `LinearModel` object and fit it to the data.  "
   ]
  },
  {
   "cell_type": "code",
   "execution_count": 87,
   "id": "ac07de0c",
   "metadata": {},
   "outputs": [],
   "source": [
    "LinearModel = lm.LinearRegression(fit_intercept=False) # No C here!"
   ]
  },
  {
   "cell_type": "markdown",
   "id": "81f57567",
   "metadata": {},
   "source": [
    "<div style=\"background: #DFF0D8; border-radius: 3px; padding: 10px;\">\n",
    "\n",
    "Now,use your object to fit the data"
   ]
  },
  {
   "cell_type": "code",
   "execution_count": 88,
   "id": "66fb38ab",
   "metadata": {},
   "outputs": [
    {
     "data": {
      "text/html": [
       "<style>#sk-container-id-5 {color: black;}#sk-container-id-5 pre{padding: 0;}#sk-container-id-5 div.sk-toggleable {background-color: white;}#sk-container-id-5 label.sk-toggleable__label {cursor: pointer;display: block;width: 100%;margin-bottom: 0;padding: 0.3em;box-sizing: border-box;text-align: center;}#sk-container-id-5 label.sk-toggleable__label-arrow:before {content: \"▸\";float: left;margin-right: 0.25em;color: #696969;}#sk-container-id-5 label.sk-toggleable__label-arrow:hover:before {color: black;}#sk-container-id-5 div.sk-estimator:hover label.sk-toggleable__label-arrow:before {color: black;}#sk-container-id-5 div.sk-toggleable__content {max-height: 0;max-width: 0;overflow: hidden;text-align: left;background-color: #f0f8ff;}#sk-container-id-5 div.sk-toggleable__content pre {margin: 0.2em;color: black;border-radius: 0.25em;background-color: #f0f8ff;}#sk-container-id-5 input.sk-toggleable__control:checked~div.sk-toggleable__content {max-height: 200px;max-width: 100%;overflow: auto;}#sk-container-id-5 input.sk-toggleable__control:checked~label.sk-toggleable__label-arrow:before {content: \"▾\";}#sk-container-id-5 div.sk-estimator input.sk-toggleable__control:checked~label.sk-toggleable__label {background-color: #d4ebff;}#sk-container-id-5 div.sk-label input.sk-toggleable__control:checked~label.sk-toggleable__label {background-color: #d4ebff;}#sk-container-id-5 input.sk-hidden--visually {border: 0;clip: rect(1px 1px 1px 1px);clip: rect(1px, 1px, 1px, 1px);height: 1px;margin: -1px;overflow: hidden;padding: 0;position: absolute;width: 1px;}#sk-container-id-5 div.sk-estimator {font-family: monospace;background-color: #f0f8ff;border: 1px dotted black;border-radius: 0.25em;box-sizing: border-box;margin-bottom: 0.5em;}#sk-container-id-5 div.sk-estimator:hover {background-color: #d4ebff;}#sk-container-id-5 div.sk-parallel-item::after {content: \"\";width: 100%;border-bottom: 1px solid gray;flex-grow: 1;}#sk-container-id-5 div.sk-label:hover label.sk-toggleable__label {background-color: #d4ebff;}#sk-container-id-5 div.sk-serial::before {content: \"\";position: absolute;border-left: 1px solid gray;box-sizing: border-box;top: 0;bottom: 0;left: 50%;z-index: 0;}#sk-container-id-5 div.sk-serial {display: flex;flex-direction: column;align-items: center;background-color: white;padding-right: 0.2em;padding-left: 0.2em;position: relative;}#sk-container-id-5 div.sk-item {position: relative;z-index: 1;}#sk-container-id-5 div.sk-parallel {display: flex;align-items: stretch;justify-content: center;background-color: white;position: relative;}#sk-container-id-5 div.sk-item::before, #sk-container-id-5 div.sk-parallel-item::before {content: \"\";position: absolute;border-left: 1px solid gray;box-sizing: border-box;top: 0;bottom: 0;left: 50%;z-index: -1;}#sk-container-id-5 div.sk-parallel-item {display: flex;flex-direction: column;z-index: 1;position: relative;background-color: white;}#sk-container-id-5 div.sk-parallel-item:first-child::after {align-self: flex-end;width: 50%;}#sk-container-id-5 div.sk-parallel-item:last-child::after {align-self: flex-start;width: 50%;}#sk-container-id-5 div.sk-parallel-item:only-child::after {width: 0;}#sk-container-id-5 div.sk-dashed-wrapped {border: 1px dashed gray;margin: 0 0.4em 0.5em 0.4em;box-sizing: border-box;padding-bottom: 0.4em;background-color: white;}#sk-container-id-5 div.sk-label label {font-family: monospace;font-weight: bold;display: inline-block;line-height: 1.2em;}#sk-container-id-5 div.sk-label-container {text-align: center;}#sk-container-id-5 div.sk-container {/* jupyter's `normalize.less` sets `[hidden] { display: none; }` but bootstrap.min.css set `[hidden] { display: none !important; }` so we also need the `!important` here to be able to override the default hidden behavior on the sphinx rendered scikit-learn.org. See: https://github.com/scikit-learn/scikit-learn/issues/21755 */display: inline-block !important;position: relative;}#sk-container-id-5 div.sk-text-repr-fallback {display: none;}</style><div id=\"sk-container-id-5\" class=\"sk-top-container\"><div class=\"sk-text-repr-fallback\"><pre>LinearRegression(fit_intercept=False)</pre><b>In a Jupyter environment, please rerun this cell to show the HTML representation or trust the notebook. <br />On GitHub, the HTML representation is unable to render, please try loading this page with nbviewer.org.</b></div><div class=\"sk-container\" hidden><div class=\"sk-item\"><div class=\"sk-estimator sk-toggleable\"><input class=\"sk-toggleable__control sk-hidden--visually\" id=\"sk-estimator-id-5\" type=\"checkbox\" checked><label for=\"sk-estimator-id-5\" class=\"sk-toggleable__label sk-toggleable__label-arrow\">LinearRegression</label><div class=\"sk-toggleable__content\"><pre>LinearRegression(fit_intercept=False)</pre></div></div></div></div></div>"
      ],
      "text/plain": [
       "LinearRegression(fit_intercept=False)"
      ]
     },
     "execution_count": 88,
     "metadata": {},
     "output_type": "execute_result"
    }
   ],
   "source": [
    "LinearModel.fit(X75,y75)"
   ]
  },
  {
   "cell_type": "markdown",
   "id": "55456745",
   "metadata": {},
   "source": [
    "<div style=\"background: #DFF0D8; border-radius: 3px; padding: 10px;\">\n",
    "\n",
    "And finally, confirm that the coefficients match those we computed using the closed form solution above."
   ]
  },
  {
   "cell_type": "code",
   "execution_count": 89,
   "id": "a936b514",
   "metadata": {},
   "outputs": [
    {
     "data": {
      "text/plain": [
       "array([10.56518987, 14.12091954])"
      ]
     },
     "execution_count": 89,
     "metadata": {},
     "output_type": "execute_result"
    }
   ],
   "source": [
    "LinearModel.coef_"
   ]
  },
  {
   "cell_type": "markdown",
   "id": "7a0dce78",
   "metadata": {},
   "source": [
    "<div style=\"border-left: 3px solid #000; padding: 1px; padding-left: 10px; background: #F0FAFF; \">\n",
    "\n",
    "Linear regression is built on the assumption that data will be normally distributed around the mean of your model output. To see this explicitly, we can can use our model to predict the beak size for each type of finch. To do this, we need to create a 'fake' `X` matrix with the same one-hot encoding we used to train the model. For *fortis*, this will look like\n",
    "\n"
   ]
  },
  {
   "cell_type": "code",
   "execution_count": 90,
   "id": "a050e651",
   "metadata": {},
   "outputs": [
    {
     "data": {
      "text/plain": [
       "array([10.56518987])"
      ]
     },
     "execution_count": 90,
     "metadata": {},
     "output_type": "execute_result"
    }
   ],
   "source": [
    "fortis = np.array([1,0])\n",
    "prediction_fortis = LinearModel.predict(fortis.reshape(1, -1))\n",
    "prediction_fortis\n"
   ]
  },
  {
   "cell_type": "markdown",
   "id": "108f2825",
   "metadata": {},
   "source": [
    "<div style=\"background: #DFF0D8; border-radius: 3px; padding: 10px;\">\n",
    "\n",
    "Predict the beak length for the scandens species in 1975:"
   ]
  },
  {
   "cell_type": "code",
   "execution_count": 91,
   "id": "5e0a3ba2",
   "metadata": {},
   "outputs": [
    {
     "data": {
      "text/plain": [
       "array([14.12091954])"
      ]
     },
     "execution_count": 91,
     "metadata": {},
     "output_type": "execute_result"
    }
   ],
   "source": [
    "scandens = np.array([0,1])\n",
    "prediction_scandens = LinearModel.predict(scandens.reshape(1, -1))\n",
    "prediction_scandens"
   ]
  },
  {
   "cell_type": "markdown",
   "id": "e9c84b60",
   "metadata": {},
   "source": [
    "<div style=\"background: #DFF0D8; border-radius: 3px; padding: 10px;\">\n",
    "\n",
    "Is the assumption of normality a good one? You should be able to get a good idea by looking at the distributions of beak lengths you plotted above. \n",
    "\n",
    "Alternatively, you can plot the residuals for your model- this is more useful when the data are less clearly catigorized. \n",
    "\n",
    "Try plotting the residuals for your model. \n",
    "\n",
    "To do this, you can either use `prediction75 = LinearModel.predict(X75)` and subtract this from `y75`, or simply access `LinearModel.residues_`"
   ]
  },
  {
   "cell_type": "code",
   "execution_count": 92,
   "id": "7c3ab5bb",
   "metadata": {},
   "outputs": [],
   "source": [
    "prediction75 = LinearModel.predict(X75)"
   ]
  },
  {
   "cell_type": "code",
   "execution_count": 93,
   "id": "4edfe099",
   "metadata": {},
   "outputs": [
    {
     "data": {
      "image/png": "[encoded data removed]",
      "text/plain": [
       "<Figure size 432x288 with 1 Axes>"
      ]
     },
     "metadata": {
      "needs_background": "light"
     },
     "output_type": "display_data"
    }
   ],
   "source": [
    "fig,ax = plt.subplots()\n",
    "ax.hist(y75-prediction75,20,histtype='bar',color = 'hotpink');\n",
    "ax.set_ylabel('# of samples')\n",
    "ax.set_xlabel('Residual (mm)');\n"
   ]
  },
  {
   "cell_type": "markdown",
   "id": "b7e47942",
   "metadata": {},
   "source": [
    "<div style=\"background: #DFF0D8; border-radius: 3px; padding: 10px;\">\n",
    "How much of the variance did our model explain? Use `score` to see the $R^2$"
   ]
  },
  {
   "cell_type": "code",
   "execution_count": 94,
   "id": "7322681f",
   "metadata": {},
   "outputs": [
    {
     "data": {
      "text/plain": [
       "0.8184106108215392"
      ]
     },
     "execution_count": 94,
     "metadata": {},
     "output_type": "execute_result"
    }
   ],
   "source": [
    "LinearModel.score(X75,y75)"
   ]
  },
  {
   "cell_type": "markdown",
   "id": "03b265ef",
   "metadata": {},
   "source": [
    "<div style=\"background: #DFF0D8; border-radius: 3px; padding: 10px;\">\n",
    "\n",
    "\n",
    "But is this really a fair analysis? Try using `train_test_split` (or KFold cross validation) to split your data. If you plot the residuals, are they still distributed around zero? What does this tell you?"
   ]
  },
  {
   "cell_type": "code",
   "execution_count": 95,
   "id": "35b4bf56",
   "metadata": {},
   "outputs": [
    {
     "data": {
      "image/png": "[encoded data removed]",
      "text/plain": [
       "<Figure size 432x288 with 1 Axes>"
      ]
     },
     "metadata": {
      "needs_background": "light"
     },
     "output_type": "display_data"
    }
   ],
   "source": [
    "# Split the data in half\n",
    "train_X75,test_X75,train_y75,test_y75 = train_test_split(X75,y75,test_size = .5,random_state = 42)\n",
    "\n",
    "LinearModel = lm.LinearRegression(fit_intercept=False)\n",
    "LinearModel.fit(train_X75,train_y75)\n",
    "\n",
    "trainprediction75 = LinearModel.predict(train_X75)\n",
    "testprediction75 = LinearModel.predict(test_X75)\n",
    "\n",
    "fig,ax = plt.subplots()\n",
    "ax.hist(train_y75-trainprediction75,20,alpha = .5,density = True,histtype='bar',label='Train Residuals',color = 'hotpink')\n",
    "ax.hist(test_y75-testprediction75,20,alpha = .5,density = True,histtype='bar',label='Test Residuals',color = 'teal');\n",
    "ax.set_ylabel('# of samples')\n",
    "ax.set_xlabel('Residual (mm)');\n",
    "\n",
    "\n"
   ]
  },
  {
   "cell_type": "code",
   "execution_count": 96,
   "id": "443d1005",
   "metadata": {},
   "outputs": [
    {
     "data": {
      "text/plain": [
       "0.7959806695794851"
      ]
     },
     "execution_count": 96,
     "metadata": {},
     "output_type": "execute_result"
    }
   ],
   "source": [
    "LinearModel.score(test_X75,test_y75)"
   ]
  },
  {
   "cell_type": "markdown",
   "id": "6c67c5b3",
   "metadata": {},
   "source": [
    "<div style=\"border-left: 3px solid #000; padding: 1px; padding-left: 10px; background: #F0FAFF; \">\n",
    "    <h2> Using the regression prediction to identify change </h2>\n",
    "    \n",
    "Now that we have a model that works well for the year 1975, lets try applying it to the data collected at a different timepoint to see if it still provides a good prediction.\n",
    "    "
   ]
  },
  {
   "cell_type": "markdown",
   "id": "d367282b",
   "metadata": {},
   "source": [
    "<div style=\"background: #DFF0D8; border-radius: 3px; padding: 10px;\">\n",
    "Filter the finches table for data from 2012"
   ]
  },
  {
   "cell_type": "code",
   "execution_count": 97,
   "id": "02ad0075",
   "metadata": {},
   "outputs": [
    {
     "data": {
      "text/html": [
       "<div>\n",
       "<style scoped>\n",
       "    .dataframe tbody tr th:only-of-type {\n",
       "        vertical-align: middle;\n",
       "    }\n",
       "\n",
       "    .dataframe tbody tr th {\n",
       "        vertical-align: top;\n",
       "    }\n",
       "\n",
       "    .dataframe thead th {\n",
       "        text-align: right;\n",
       "    }\n",
       "</style>\n",
       "<table border=\"1\" class=\"dataframe\">\n",
       "  <thead>\n",
       "    <tr style=\"text-align: right;\">\n",
       "      <th></th>\n",
       "      <th>band</th>\n",
       "      <th>year</th>\n",
       "      <th>species</th>\n",
       "      <th>beaklength</th>\n",
       "      <th>beakdepth</th>\n",
       "    </tr>\n",
       "  </thead>\n",
       "  <tbody>\n",
       "    <tr>\n",
       "      <th>403</th>\n",
       "      <td>19022</td>\n",
       "      <td>2012</td>\n",
       "      <td>fortis</td>\n",
       "      <td>10.0</td>\n",
       "      <td>8.5</td>\n",
       "    </tr>\n",
       "    <tr>\n",
       "      <th>404</th>\n",
       "      <td>19028</td>\n",
       "      <td>2012</td>\n",
       "      <td>fortis</td>\n",
       "      <td>12.5</td>\n",
       "      <td>8.9</td>\n",
       "    </tr>\n",
       "    <tr>\n",
       "      <th>405</th>\n",
       "      <td>19032</td>\n",
       "      <td>2012</td>\n",
       "      <td>fortis</td>\n",
       "      <td>9.3</td>\n",
       "      <td>7.5</td>\n",
       "    </tr>\n",
       "    <tr>\n",
       "      <th>406</th>\n",
       "      <td>19041</td>\n",
       "      <td>2012</td>\n",
       "      <td>fortis</td>\n",
       "      <td>10.3</td>\n",
       "      <td>9.6</td>\n",
       "    </tr>\n",
       "    <tr>\n",
       "      <th>407</th>\n",
       "      <td>19044</td>\n",
       "      <td>2012</td>\n",
       "      <td>fortis</td>\n",
       "      <td>11.0</td>\n",
       "      <td>9.2</td>\n",
       "    </tr>\n",
       "  </tbody>\n",
       "</table>\n",
       "</div>"
      ],
      "text/plain": [
       "      band  year species  beaklength  beakdepth\n",
       "403  19022  2012  fortis        10.0        8.5\n",
       "404  19028  2012  fortis        12.5        8.9\n",
       "405  19032  2012  fortis         9.3        7.5\n",
       "406  19041  2012  fortis        10.3        9.6\n",
       "407  19044  2012  fortis        11.0        9.2"
      ]
     },
     "execution_count": 97,
     "metadata": {},
     "output_type": "execute_result"
    }
   ],
   "source": [
    "finches12 = finches[finches.year==2012]\n",
    "finches12.head()"
   ]
  },
  {
   "cell_type": "markdown",
   "id": "f3d1ef5a",
   "metadata": {},
   "source": [
    "<div style=\"background: #DFF0D8; border-radius: 3px; padding: 10px;\">\n",
    "Plot the data from 2012 overlayed on the 1975 data, seperated by species. Do we think things changed?"
   ]
  },
  {
   "cell_type": "code",
   "execution_count": 98,
   "id": "a2b5dd93",
   "metadata": {},
   "outputs": [
    {
     "data": {
      "text/plain": [
       "<matplotlib.legend.Legend at 0x7f87faecb370>"
      ]
     },
     "execution_count": 98,
     "metadata": {},
     "output_type": "execute_result"
    },
    {
     "data": {
      "image/png": "[encoded data removed]",
      "text/plain": [
       "<Figure size 432x288 with 1 Axes>"
      ]
     },
     "metadata": {
      "needs_background": "light"
     },
     "output_type": "display_data"
    }
   ],
   "source": [
    "fig,ax = plt.subplots()\n",
    "ax.hist(finches12[finches12.species=='fortis'].beaklength,density = True,histtype='step',label='fortis',color = 'blue');\n",
    "ax.hist(finches75[finches75.species=='fortis'].beaklength,density = True,histtype='bar',alpha = .5,label='fortis',color = 'blue');\n",
    "\n",
    "ax.hist(finches12[finches12.species=='scandens'].beaklength,density = True,histtype='step',label='scandens',color = 'orange');\n",
    "ax.hist(finches75[finches75.species=='scandens'].beaklength,density = True,histtype='bar',alpha = .5,label='scandens',color = 'orange');\n",
    "\n",
    "ax.set_ylabel('density')\n",
    "ax.set_xlabel('pH')\n",
    "ax.legend()"
   ]
  },
  {
   "cell_type": "markdown",
   "id": "cfc6be93",
   "metadata": {},
   "source": [
    "<div style=\"background: #DFF0D8; border-radius: 3px; padding: 10px;\">\n",
    "Build a design matrix `X12` and beak lenght vector `y12` for these data"
   ]
  },
  {
   "cell_type": "code",
   "execution_count": 99,
   "id": "6a1c052a",
   "metadata": {},
   "outputs": [],
   "source": [
    "its_a_fortis = np.array(finches12.species == 'fortis')\n",
    "its_a_scandens = np.array(finches12.species=='scandens')\n",
    "X12 = np.vstack([its_a_fortis,its_a_scandens]).T\n",
    "X12 = X12.astype(int)\n",
    "y12 = finches12.beaklength"
   ]
  },
  {
   "cell_type": "markdown",
   "id": "889d5b14",
   "metadata": {},
   "source": [
    "<div style=\"background: #DFF0D8; border-radius: 3px; padding: 10px;\">\n",
    "Use the model we trained before to predict the new data. How did we do this time? Is it what you expected from the histograms you just plotted?"
   ]
  },
  {
   "cell_type": "code",
   "execution_count": 100,
   "id": "fe645286",
   "metadata": {},
   "outputs": [
    {
     "data": {
      "text/plain": [
       "0.6569924194886112"
      ]
     },
     "execution_count": 100,
     "metadata": {},
     "output_type": "execute_result"
    }
   ],
   "source": [
    "LinearModel.score(X12,y12)"
   ]
  },
  {
   "cell_type": "markdown",
   "id": "36ffac41",
   "metadata": {},
   "source": [
    "<div style=\"background: #DFF0D8; border-radius: 3px; padding: 10px;\">\n",
    "To get more of an intuition for how this model is working, you can also try plotting the residuals for this 1975 model in predicting 2012 data. Are they still centered at 0?"
   ]
  },
  {
   "cell_type": "code",
   "execution_count": 101,
   "id": "41e0b297",
   "metadata": {},
   "outputs": [
    {
     "data": {
      "image/png": "[encoded data removed]",
      "text/plain": [
       "<Figure size 432x288 with 1 Axes>"
      ]
     },
     "metadata": {
      "needs_background": "light"
     },
     "output_type": "display_data"
    }
   ],
   "source": [
    "prediction12 = LinearModel.predict(X12)\n",
    "fig,ax = plt.subplots()\n",
    "ax.hist(y75-prediction75,20,alpha = .5,color = 'hotpink',label = '1975',density = True)\n",
    "ax.hist(y12-prediction12,20,alpha = .5,color = 'teal',label = '2012',density=True)\n",
    "ax.legend()\n",
    "ax.set_xlabel('Residual (mm)')\n",
    "ax.set_ylabel('density');"
   ]
  },
  {
   "cell_type": "markdown",
   "id": "a428bee9",
   "metadata": {},
   "source": [
    "<div style=\"border-left: 3px solid #000; padding: 1px; padding-left: 10px; background: #F0FAFF; \">\n",
    "<p>\n",
    "\n",
    "This is exciting - A model fit on 1975 data does less well at predicting 2012 data than it does on held-out 1975 data. This suggests that between 1975 and 2012, the beak size of the finch species changes. It show that, even in a small timespan, physical feature of the finch species evolve! Amazing things can happen if you spend some time on an island."
   ]
  }
 ],
 "metadata": {
  "kernelspec": {
   "display_name": "Python 3 (ipykernel)",
   "language": "python",
   "name": "python3"
  },
  "language_info": {
   "codemirror_mode": {
    "name": "ipython",
    "version": 3
   },
   "file_extension": ".py",
   "mimetype": "text/x-python",
   "name": "python",
   "nbconvert_exporter": "python",
   "pygments_lexer": "ipython3",
   "version": "3.10.12"
  }
 },
 "nbformat": 4,
 "nbformat_minor": 5
}
