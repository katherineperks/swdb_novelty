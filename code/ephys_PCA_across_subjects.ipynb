{
 "cells": [
  {
   "cell_type": "markdown",
   "id": "a015f8ea-18b1-482e-b22a-13cb0771cc56",
   "metadata": {},
   "source": [
    "## Setup"
   ]
  },
  {
   "cell_type": "code",
   "execution_count": 1,
   "id": "efd02f87-9b74-48a3-92ff-e2262a2fda67",
   "metadata": {
    "tags": []
   },
   "outputs": [],
   "source": [
    "# We need to import these modules to get started\n",
    "import os\n",
    "import numpy as np\n",
    "import pandas as pd\n",
    "import matplotlib.pyplot as plt\n",
    "from scipy import stats\n",
    "import brain_observatory_utilities.datasets.behavior.data_formatting as behavior_utils\n",
    "import brain_observatory_utilities.datasets.electrophysiology.utilities as ephys_utils\n",
    "\n",
    "# seaborn makes pretty plots & sets font sizes nicely\n",
    "import seaborn as sns\n",
    "sns.set_context('notebook', font_scale=1.5, rc={'lines.markeredgewidth': 2})\n",
    "\n",
    "import matplotlib\n",
    "from sklearn.decomposition import PCA\n",
    "from sklearn.cluster import KMeans\n",
    "\n",
    "# magic functions for jupyter notebook plotting\n",
    "%matplotlib inline"
   ]
  },
  {
   "cell_type": "code",
   "execution_count": 2,
   "id": "2456fa5b-b246-4ad0-97ee-44986f0031f6",
   "metadata": {
    "tags": []
   },
   "outputs": [],
   "source": [
    "import platform\n",
    "platstring = platform.platform()\n",
    "\n",
    "if ('Darwin' in platstring) or ('macOS' in platstring):\n",
    "    # macOS \n",
    "    data_root = \"/Volumes/Brain2024/\"\n",
    "elif 'Windows'  in platstring:\n",
    "    # Windows (replace with the drive letter of USB drive)\n",
    "    data_root = \"E:/\"\n",
    "elif ('amzn' in platstring):\n",
    "    # then on CodeOcean\n",
    "    data_root = \"/data/\"\n",
    "else:\n",
    "    # then your own linux platform\n",
    "    # EDIT location where you mounted hard drive\n",
    "    data_root = \"/media/$USERNAME/Brain2024/\""
   ]
  },
  {
   "cell_type": "code",
   "execution_count": 3,
   "id": "80e4e564-15c1-4bc1-838f-6f006fd76bfe",
   "metadata": {
    "tags": []
   },
   "outputs": [],
   "source": [
    "# import behavior projet cache class from SDK to be able to load the data\n",
    "from allensdk.brain_observatory.behavior.behavior_project_cache import VisualBehaviorNeuropixelsProjectCache\n",
    "\n",
    "cache = VisualBehaviorNeuropixelsProjectCache.from_local_cache(cache_dir=data_root, use_static_cache=True)\n",
    "\n",
    "# if we needed to download the data we could have used the following line\n",
    "# cache = VisualBehaviorOphysProjectCache.from_s3_cache(cache_dir=data_root)  "
   ]
  },
  {
   "cell_type": "code",
   "execution_count": 4,
   "id": "81e003af-8d08-420b-9056-ebc2021a458c",
   "metadata": {
    "tags": []
   },
   "outputs": [],
   "source": [
    "# get the metadata tables\n",
    "units_table = cache.get_unit_table()\n",
    "\n",
    "channels_table = cache.get_channel_table()\n",
    "\n",
    "probes_table = cache.get_probe_table()\n",
    "\n",
    "behavior_sessions_table = cache.get_behavior_session_table()\n",
    "\n",
    "ecephys_sessions_table = cache.get_ecephys_session_table()"
   ]
  },
  {
   "cell_type": "code",
   "execution_count": 5,
   "id": "da7f1f50-9828-408f-ab17-b23c1d2afae1",
   "metadata": {
    "tags": []
   },
   "outputs": [],
   "source": [
    "# file paths\n",
    "recording_type = 'ephys'\n",
    "postproc_dir = '/root/capsule/postprocessed/'+recording_type+'/'\n",
    "fig_dir = '/root/capsule/figures/'+recording_type+'/'"
   ]
  },
  {
   "cell_type": "markdown",
   "id": "625c942b-4d65-4720-9cea-235ae872b6e6",
   "metadata": {},
   "source": [
    "## Postprocess ephys sessions"
   ]
  },
  {
   "cell_type": "code",
   "execution_count": 6,
   "id": "287b80c5-69fb-4d05-99a6-c4af0351388c",
   "metadata": {
    "tags": []
   },
   "outputs": [
    {
     "data": {
      "text/html": [
       "<div>\n",
       "<style scoped>\n",
       "    .dataframe tbody tr th:only-of-type {\n",
       "        vertical-align: middle;\n",
       "    }\n",
       "\n",
       "    .dataframe tbody tr th {\n",
       "        vertical-align: top;\n",
       "    }\n",
       "\n",
       "    .dataframe thead th {\n",
       "        text-align: right;\n",
       "    }\n",
       "</style>\n",
       "<table border=\"1\" class=\"dataframe\">\n",
       "  <thead>\n",
       "    <tr style=\"text-align: right;\">\n",
       "      <th></th>\n",
       "      <th>behavior_session_id</th>\n",
       "      <th>date_of_acquisition</th>\n",
       "      <th>equipment_name</th>\n",
       "      <th>session_type</th>\n",
       "      <th>mouse_id</th>\n",
       "      <th>genotype</th>\n",
       "      <th>sex</th>\n",
       "      <th>project_code</th>\n",
       "      <th>age_in_days</th>\n",
       "      <th>unit_count</th>\n",
       "      <th>...</th>\n",
       "      <th>channel_count</th>\n",
       "      <th>structure_acronyms</th>\n",
       "      <th>image_set</th>\n",
       "      <th>prior_exposures_to_image_set</th>\n",
       "      <th>session_number</th>\n",
       "      <th>experience_level</th>\n",
       "      <th>prior_exposures_to_omissions</th>\n",
       "      <th>file_id</th>\n",
       "      <th>abnormal_histology</th>\n",
       "      <th>abnormal_activity</th>\n",
       "    </tr>\n",
       "    <tr>\n",
       "      <th>ecephys_session_id</th>\n",
       "      <th></th>\n",
       "      <th></th>\n",
       "      <th></th>\n",
       "      <th></th>\n",
       "      <th></th>\n",
       "      <th></th>\n",
       "      <th></th>\n",
       "      <th></th>\n",
       "      <th></th>\n",
       "      <th></th>\n",
       "      <th></th>\n",
       "      <th></th>\n",
       "      <th></th>\n",
       "      <th></th>\n",
       "      <th></th>\n",
       "      <th></th>\n",
       "      <th></th>\n",
       "      <th></th>\n",
       "      <th></th>\n",
       "      <th></th>\n",
       "      <th></th>\n",
       "    </tr>\n",
       "  </thead>\n",
       "  <tbody>\n",
       "    <tr>\n",
       "      <th>1044594870</th>\n",
       "      <td>1044624428</td>\n",
       "      <td>2020-08-20 15:03:56.422000+00:00</td>\n",
       "      <td>NP.1</td>\n",
       "      <td>EPHYS_1_images_H_5uL_reward</td>\n",
       "      <td>524761</td>\n",
       "      <td>wt/wt</td>\n",
       "      <td>F</td>\n",
       "      <td>NeuropixelVisualBehavior</td>\n",
       "      <td>152</td>\n",
       "      <td>2103</td>\n",
       "      <td>...</td>\n",
       "      <td>1920</td>\n",
       "      <td>['CA1', 'CA3', 'DG-mo', 'DG-po', 'DG-sg', 'HPF...</td>\n",
       "      <td>H</td>\n",
       "      <td>0</td>\n",
       "      <td>2</td>\n",
       "      <td>Novel</td>\n",
       "      <td>1</td>\n",
       "      <td>872</td>\n",
       "      <td>NaN</td>\n",
       "      <td>NaN</td>\n",
       "    </tr>\n",
       "    <tr>\n",
       "      <th>1048189115</th>\n",
       "      <td>1048221709</td>\n",
       "      <td>2020-09-03 14:16:57.913000+00:00</td>\n",
       "      <td>NP.1</td>\n",
       "      <td>EPHYS_1_images_H_3uL_reward</td>\n",
       "      <td>509808</td>\n",
       "      <td>Sst-IRES-Cre/wt;Ai32(RCL-ChR2(H134R)_EYFP)/wt</td>\n",
       "      <td>M</td>\n",
       "      <td>NeuropixelVisualBehavior</td>\n",
       "      <td>264</td>\n",
       "      <td>1925</td>\n",
       "      <td>...</td>\n",
       "      <td>2304</td>\n",
       "      <td>['APN', 'CA1', 'CA3', 'DG-mo', 'DG-po', 'DG-sg...</td>\n",
       "      <td>H</td>\n",
       "      <td>0</td>\n",
       "      <td>2</td>\n",
       "      <td>Novel</td>\n",
       "      <td>1</td>\n",
       "      <td>879</td>\n",
       "      <td>NaN</td>\n",
       "      <td>NaN</td>\n",
       "    </tr>\n",
       "  </tbody>\n",
       "</table>\n",
       "<p>2 rows × 21 columns</p>\n",
       "</div>"
      ],
      "text/plain": [
       "                    behavior_session_id               date_of_acquisition  \\\n",
       "ecephys_session_id                                                          \n",
       "1044594870                   1044624428  2020-08-20 15:03:56.422000+00:00   \n",
       "1048189115                   1048221709  2020-09-03 14:16:57.913000+00:00   \n",
       "\n",
       "                   equipment_name                 session_type  mouse_id  \\\n",
       "ecephys_session_id                                                         \n",
       "1044594870                   NP.1  EPHYS_1_images_H_5uL_reward    524761   \n",
       "1048189115                   NP.1  EPHYS_1_images_H_3uL_reward    509808   \n",
       "\n",
       "                                                         genotype sex  \\\n",
       "ecephys_session_id                                                      \n",
       "1044594870                                                  wt/wt   F   \n",
       "1048189115          Sst-IRES-Cre/wt;Ai32(RCL-ChR2(H134R)_EYFP)/wt   M   \n",
       "\n",
       "                                project_code  age_in_days  unit_count  ...  \\\n",
       "ecephys_session_id                                                     ...   \n",
       "1044594870          NeuropixelVisualBehavior          152        2103  ...   \n",
       "1048189115          NeuropixelVisualBehavior          264        1925  ...   \n",
       "\n",
       "                    channel_count  \\\n",
       "ecephys_session_id                  \n",
       "1044594870                   1920   \n",
       "1048189115                   2304   \n",
       "\n",
       "                                                   structure_acronyms  \\\n",
       "ecephys_session_id                                                      \n",
       "1044594870          ['CA1', 'CA3', 'DG-mo', 'DG-po', 'DG-sg', 'HPF...   \n",
       "1048189115          ['APN', 'CA1', 'CA3', 'DG-mo', 'DG-po', 'DG-sg...   \n",
       "\n",
       "                   image_set prior_exposures_to_image_set  session_number  \\\n",
       "ecephys_session_id                                                          \n",
       "1044594870                 H                            0               2   \n",
       "1048189115                 H                            0               2   \n",
       "\n",
       "                    experience_level prior_exposures_to_omissions  file_id  \\\n",
       "ecephys_session_id                                                           \n",
       "1044594870                     Novel                            1      872   \n",
       "1048189115                     Novel                            1      879   \n",
       "\n",
       "                    abnormal_histology abnormal_activity  \n",
       "ecephys_session_id                                        \n",
       "1044594870                         NaN               NaN  \n",
       "1048189115                         NaN               NaN  \n",
       "\n",
       "[2 rows x 21 columns]"
      ]
     },
     "execution_count": 6,
     "metadata": {},
     "output_type": "execute_result"
    }
   ],
   "source": [
    "imageset_overlap_sessions = ecephys_sessions_table[(ecephys_sessions_table.prior_exposures_to_image_set==0) & (ecephys_sessions_table.experience_level=='Novel')]\n",
    "imageset_overlap_sessions.head(2)"
   ]
  },
  {
   "cell_type": "code",
   "execution_count": 7,
   "id": "1b2b270c-609e-4495-a0b1-e716bc2e79d3",
   "metadata": {},
   "outputs": [],
   "source": [
    "filename = recording_type+'_imageset_overlap_sessions'\n",
    "imageset_overlap_sessions.to_pickle(postproc_dir+filename+'.pkl')"
   ]
  },
  {
   "cell_type": "code",
   "execution_count": 14,
   "id": "96520849-63b5-4d25-8b51-6d3d098dd66e",
   "metadata": {
    "tags": []
   },
   "outputs": [
    {
     "data": {
      "text/plain": [
       "True"
      ]
     },
     "execution_count": 14,
     "metadata": {},
     "output_type": "execute_result"
    }
   ],
   "source": [
    "1052533639 in imageset_overlap_sessions.index"
   ]
  },
  {
   "cell_type": "markdown",
   "id": "2c1bc3b4-c808-4a0f-b1be-d91aad0d50ba",
   "metadata": {
    "tags": []
   },
   "source": [
    "## Load data"
   ]
  },
  {
   "cell_type": "code",
   "execution_count": 9,
   "id": "e7056cbf-3fc0-4e13-84de-7f558774f7f4",
   "metadata": {},
   "outputs": [],
   "source": [
    "# for session_id in imageset_overlap_sessions.index:\n",
    "#     print(f'Loading session {session_id}...')\n",
    "#     session = cache.get_ecephys_session(ecephys_session_id=session_id)"
   ]
  },
  {
   "cell_type": "code",
   "execution_count": null,
   "id": "8e16180a-31de-4231-a166-98f9494e4b52",
   "metadata": {
    "tags": []
   },
   "outputs": [],
   "source": [
    "# load neural data\n",
    "spike_times = session.spike_times\n",
    "\n",
    "# load behavioral data\n",
    "all_stim_pres = session.stimulus_presentations\n",
    "stim_pres = behavior_utils.get_annotated_stimulus_presentations(session) # only image presentations in stim block 0 - why?"
   ]
  },
  {
   "cell_type": "code",
   "execution_count": null,
   "id": "b1506f08-19ad-46e5-91c4-03edf8ae9fdc",
   "metadata": {
    "tags": []
   },
   "outputs": [],
   "source": [
    "# get unit and channel data, sort the units by depth and filter for \"good\" units\n",
    "units = session.get_units() # contains information about spike waveforms, isolation quality\n",
    "channels = session.get_channels() # contains information about anatomical location\n",
    "\n",
    "unit_channels = units.merge(channels, left_on='peak_channel_id', right_index=True) # associate anatomical information with each unit\n",
    "\n",
    "# sort units by depth\n",
    "unit_channels = unit_channels.sort_values('probe_vertical_position', ascending=False)\n",
    "\n",
    "# filter units using QC metrics\n",
    "good_unit_filter = ((unit_channels['snr']>1)&\n",
    "                    (unit_channels['isi_violations']<.5)&\n",
    "                    (unit_channels['firing_rate']>0.1)&\n",
    "                    (unit_channels['amplitude_cutoff']<0.1)&\n",
    "                    (unit_channels['presence_ratio']>.9)\n",
    "                   )\n",
    "\n",
    "good_units = unit_channels.loc[good_unit_filter]\n",
    "\n",
    "# filter by brain region\n",
    "area_of_interest = 'VIS'\n",
    "area_units = good_units[good_units['structure_acronym'].str.contains(area_of_interest)]\n",
    "# area_units = good_units[good_units['structure_acronym'] == area_of_interest]\n",
    "num_units = len(area_units)\n",
    "print(num_units)"
   ]
  }
 ],
 "metadata": {
  "kernelspec": {
   "display_name": "Python 3 (ipykernel)",
   "language": "python",
   "name": "python3"
  },
  "language_info": {
   "codemirror_mode": {
    "name": "ipython",
    "version": 3
   },
   "file_extension": ".py",
   "mimetype": "text/x-python",
   "name": "python",
   "nbconvert_exporter": "python",
   "pygments_lexer": "ipython3",
   "version": "3.10.12"
  }
 },
 "nbformat": 4,
 "nbformat_minor": 5
}
